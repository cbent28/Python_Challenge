{
 "cells": [
  {
   "cell_type": "code",
   "execution_count": 61,
   "id": "776dec81-1890-4fb1-8311-14eb44c1fd48",
   "metadata": {},
   "outputs": [
    {
     "name": "stdout",
     "output_type": "stream",
     "text": [
      "Financial Analysis\n",
      "------------------------\n",
      "Total Months: 86\n",
      "Total: $38382578\n",
      "Average Change: -2315.12\n",
      "Greatest Increase in Profits: Feb-2012 ($1926159)\n",
      "Greatest Decrease in Profits: Sep-2013 ($-2196167)\n"
     ]
    }
   ],
   "source": [
    "#Importing Liabraries\n",
    "import csv\n",
    "from pathlib import Path\n",
    "\n",
    "#Creating files to load and files to output\n",
    "file_to_load= \"/Users/carlbent/Desktop/Module_2/PyBank/Resources/budget_data.csv\"\n",
    "file_to_output = \"/Users/carlbent/Desktop/Module_2/PyBank/Resources/output.txt\"\n",
    "\n",
    "#Reading CSV File\n",
    "with open(file_to_load) as PyBank:\n",
    "    reader = csv.reader(PyBank, delimiter = ',')\n",
    "    header = next(reader)\n",
    "    \n",
    "    #Develop empty lists to add the CSV \n",
    "    profit = []\n",
    "    total_change_profit = []\n",
    "    total_months = []\n",
    "                      \n",
    "    #Iterate through the values and add them to the empty list \n",
    "    for row in reader:\n",
    "        total_months.append(row[0])\n",
    "        profit.append(int(row[1]))\n",
    "    for i in range(len(profit)-1):\n",
    "        total_change_profit.append(profit[i+1]-profit[i])\n",
    "                      \n",
    "#Create the max and min values\n",
    "increase = max(total_change_profit)\n",
    "decrease = min(total_change_profit)\n",
    "\n",
    "#Using the index to create the monthly increase and decrease\n",
    "month_decrease = total_change_profit.index(min(total_change_profit))+1\n",
    "month_increase = total_change_profit.index(max(total_change_profit))+1\n",
    "\n",
    "#Printing Out Financial Analysis\n",
    "print(\"Financial Analysis\")\n",
    "print(\"------------------------\")\n",
    "print(f\"Total Months: {len(total_months)}\")\n",
    "print(f\"Total: ${sum(profit)}\")\n",
    "print(f\"Average Change: {round(sum(total_change_profit)/len(total_change_profit),2)}\")\n",
    "print(f\"Greatest Increase in Profits: {total_months[month_increase]} (${(str(increase))})\")\n",
    "print(f\"Greatest Decrease in Profits: {total_months[month_decrease]} (${(str(decrease))})\")\n",
    "\n",
    "with open(\"file_to_output\", \"w\") as output:\n",
    "    output.write(\"Financial Analysis\")\n",
    "    output.write(\"\\n\")\n",
    "    output.write(\"------------------------\")\n",
    "    output.write(\"\\n\")\n",
    "    output.write(f\"Total Months: {len(total_months)}\")\n",
    "    output.write(\"\\n\")\n",
    "    output.write(f\"Total: ${sum(profit)}\")\n",
    "    output.write(\"\\n\")\n",
    "    output.write(f\"Average Change: {round(sum(total_change_profit)/len(total_change_profit),2)}\")\n",
    "    output.write(\"\\n\")\n",
    "    output.write(f\"Greatest Increase in Profits: {total_months[month_increase]} (${(str(increase))})\")\n",
    "    output.write(\"\\n\")\n",
    "    output.write(f\"Greatest Decrease in Profits: {total_months[month_decrease]} (${(str(decrease))})\")"
   ]
  },
  {
   "cell_type": "code",
   "execution_count": null,
   "id": "8d0175b9-7d24-4afb-9810-42f515974652",
   "metadata": {},
   "outputs": [],
   "source": []
  },
  {
   "cell_type": "code",
   "execution_count": null,
   "id": "e4040ff4-4c91-44e4-acf8-ad4e818f6f06",
   "metadata": {},
   "outputs": [],
   "source": []
  }
 ],
 "metadata": {
  "kernelspec": {
   "display_name": "Python 3 (ipykernel)",
   "language": "python",
   "name": "python3"
  },
  "language_info": {
   "codemirror_mode": {
    "name": "ipython",
    "version": 3
   },
   "file_extension": ".py",
   "mimetype": "text/x-python",
   "name": "python",
   "nbconvert_exporter": "python",
   "pygments_lexer": "ipython3",
   "version": "3.9.12"
  }
 },
 "nbformat": 4,
 "nbformat_minor": 5
}
